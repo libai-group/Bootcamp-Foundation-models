{
  "nbformat": 4,
  "nbformat_minor": 0,
  "metadata": {
    "colab": {
      "provenance": []
    },
    "kernelspec": {
      "name": "python3",
      "display_name": "Python 3"
    },
    "language_info": {
      "name": "python"
    }
  },
  "cells": [
    {
      "cell_type": "code",
      "source": [
        "!pip install transformers"
      ],
      "metadata": {
        "colab": {
          "base_uri": "https://localhost:8080/"
        },
        "id": "9xerraOxq73q",
        "outputId": "c1e22a51-0d38-4b64-dfdc-b3f43d28b02d"
      },
      "execution_count": 1,
      "outputs": [
        {
          "output_type": "stream",
          "name": "stdout",
          "text": [
            "Requirement already satisfied: transformers in /usr/local/lib/python3.11/dist-packages (4.52.4)\n",
            "Requirement already satisfied: filelock in /usr/local/lib/python3.11/dist-packages (from transformers) (3.18.0)\n",
            "Requirement already satisfied: huggingface-hub<1.0,>=0.30.0 in /usr/local/lib/python3.11/dist-packages (from transformers) (0.32.4)\n",
            "Requirement already satisfied: numpy>=1.17 in /usr/local/lib/python3.11/dist-packages (from transformers) (2.0.2)\n",
            "Requirement already satisfied: packaging>=20.0 in /usr/local/lib/python3.11/dist-packages (from transformers) (24.2)\n",
            "Requirement already satisfied: pyyaml>=5.1 in /usr/local/lib/python3.11/dist-packages (from transformers) (6.0.2)\n",
            "Requirement already satisfied: regex!=2019.12.17 in /usr/local/lib/python3.11/dist-packages (from transformers) (2024.11.6)\n",
            "Requirement already satisfied: requests in /usr/local/lib/python3.11/dist-packages (from transformers) (2.32.3)\n",
            "Requirement already satisfied: tokenizers<0.22,>=0.21 in /usr/local/lib/python3.11/dist-packages (from transformers) (0.21.1)\n",
            "Requirement already satisfied: safetensors>=0.4.3 in /usr/local/lib/python3.11/dist-packages (from transformers) (0.5.3)\n",
            "Requirement already satisfied: tqdm>=4.27 in /usr/local/lib/python3.11/dist-packages (from transformers) (4.67.1)\n",
            "Requirement already satisfied: fsspec>=2023.5.0 in /usr/local/lib/python3.11/dist-packages (from huggingface-hub<1.0,>=0.30.0->transformers) (2025.3.2)\n",
            "Requirement already satisfied: typing-extensions>=3.7.4.3 in /usr/local/lib/python3.11/dist-packages (from huggingface-hub<1.0,>=0.30.0->transformers) (4.14.0)\n",
            "Requirement already satisfied: hf-xet<2.0.0,>=1.1.2 in /usr/local/lib/python3.11/dist-packages (from huggingface-hub<1.0,>=0.30.0->transformers) (1.1.2)\n",
            "Requirement already satisfied: charset-normalizer<4,>=2 in /usr/local/lib/python3.11/dist-packages (from requests->transformers) (3.4.2)\n",
            "Requirement already satisfied: idna<4,>=2.5 in /usr/local/lib/python3.11/dist-packages (from requests->transformers) (3.10)\n",
            "Requirement already satisfied: urllib3<3,>=1.21.1 in /usr/local/lib/python3.11/dist-packages (from requests->transformers) (2.4.0)\n",
            "Requirement already satisfied: certifi>=2017.4.17 in /usr/local/lib/python3.11/dist-packages (from requests->transformers) (2025.4.26)\n"
          ]
        }
      ]
    },
    {
      "cell_type": "markdown",
      "source": [
        "## Sentiment Analysis - Using DistillBert\n",
        "- A Default DistilBERT model - sshleifer/distilbart-cnn-12-6 (which is a distilled version of BERT — both are LLMs)\n",
        "- Fine-tuned for sentiment classification\n",
        "- Runs via the Hugging Face transformers pipeline (which wraps the model and tokenizer)"
      ],
      "metadata": {
        "id": "mu2TVclNoX0H"
      }
    },
    {
      "cell_type": "code",
      "execution_count": 19,
      "metadata": {
        "id": "gL6kw0fqElll",
        "colab": {
          "base_uri": "https://localhost:8080/",
          "height": 373
        },
        "outputId": "1313005c-9dbf-4e06-a30d-e65ad428a354"
      },
      "outputs": [
        {
          "output_type": "stream",
          "name": "stderr",
          "text": [
            "No model was supplied, defaulted to distilbert/distilbert-base-uncased-finetuned-sst-2-english and revision 714eb0f (https://huggingface.co/distilbert/distilbert-base-uncased-finetuned-sst-2-english).\n",
            "Using a pipeline without specifying a model name and revision in production is not recommended.\n",
            "Device set to use cpu\n"
          ]
        },
        {
          "output_type": "stream",
          "name": "stdout",
          "text": [
            "\n",
            "\n",
            "#########################################\n",
            "Defaul model : distilbert/distilbert-base-uncased-finetuned-sst-2-english\n",
            "#########################################\n",
            "\n",
            "\n"
          ]
        },
        {
          "output_type": "execute_result",
          "data": {
            "text/plain": [
              "              feedback                                          sentiment\n",
              "0           Love this!  [{'label': 'POSITIVE', 'score': 0.999874591827...\n",
              "1  Hate the new design  [{'label': 'NEGATIVE', 'score': 0.999741017818..."
            ],
            "text/html": [
              "\n",
              "  <div id=\"df-b6f66bc1-3c19-422e-90af-393cebc1b140\" class=\"colab-df-container\">\n",
              "    <div>\n",
              "<style scoped>\n",
              "    .dataframe tbody tr th:only-of-type {\n",
              "        vertical-align: middle;\n",
              "    }\n",
              "\n",
              "    .dataframe tbody tr th {\n",
              "        vertical-align: top;\n",
              "    }\n",
              "\n",
              "    .dataframe thead th {\n",
              "        text-align: right;\n",
              "    }\n",
              "</style>\n",
              "<table border=\"1\" class=\"dataframe\">\n",
              "  <thead>\n",
              "    <tr style=\"text-align: right;\">\n",
              "      <th></th>\n",
              "      <th>feedback</th>\n",
              "      <th>sentiment</th>\n",
              "    </tr>\n",
              "  </thead>\n",
              "  <tbody>\n",
              "    <tr>\n",
              "      <th>0</th>\n",
              "      <td>Love this!</td>\n",
              "      <td>[{'label': 'POSITIVE', 'score': 0.999874591827...</td>\n",
              "    </tr>\n",
              "    <tr>\n",
              "      <th>1</th>\n",
              "      <td>Hate the new design</td>\n",
              "      <td>[{'label': 'NEGATIVE', 'score': 0.999741017818...</td>\n",
              "    </tr>\n",
              "  </tbody>\n",
              "</table>\n",
              "</div>\n",
              "    <div class=\"colab-df-buttons\">\n",
              "\n",
              "  <div class=\"colab-df-container\">\n",
              "    <button class=\"colab-df-convert\" onclick=\"convertToInteractive('df-b6f66bc1-3c19-422e-90af-393cebc1b140')\"\n",
              "            title=\"Convert this dataframe to an interactive table.\"\n",
              "            style=\"display:none;\">\n",
              "\n",
              "  <svg xmlns=\"http://www.w3.org/2000/svg\" height=\"24px\" viewBox=\"0 -960 960 960\">\n",
              "    <path d=\"M120-120v-720h720v720H120Zm60-500h600v-160H180v160Zm220 220h160v-160H400v160Zm0 220h160v-160H400v160ZM180-400h160v-160H180v160Zm440 0h160v-160H620v160ZM180-180h160v-160H180v160Zm440 0h160v-160H620v160Z\"/>\n",
              "  </svg>\n",
              "    </button>\n",
              "\n",
              "  <style>\n",
              "    .colab-df-container {\n",
              "      display:flex;\n",
              "      gap: 12px;\n",
              "    }\n",
              "\n",
              "    .colab-df-convert {\n",
              "      background-color: #E8F0FE;\n",
              "      border: none;\n",
              "      border-radius: 50%;\n",
              "      cursor: pointer;\n",
              "      display: none;\n",
              "      fill: #1967D2;\n",
              "      height: 32px;\n",
              "      padding: 0 0 0 0;\n",
              "      width: 32px;\n",
              "    }\n",
              "\n",
              "    .colab-df-convert:hover {\n",
              "      background-color: #E2EBFA;\n",
              "      box-shadow: 0px 1px 2px rgba(60, 64, 67, 0.3), 0px 1px 3px 1px rgba(60, 64, 67, 0.15);\n",
              "      fill: #174EA6;\n",
              "    }\n",
              "\n",
              "    .colab-df-buttons div {\n",
              "      margin-bottom: 4px;\n",
              "    }\n",
              "\n",
              "    [theme=dark] .colab-df-convert {\n",
              "      background-color: #3B4455;\n",
              "      fill: #D2E3FC;\n",
              "    }\n",
              "\n",
              "    [theme=dark] .colab-df-convert:hover {\n",
              "      background-color: #434B5C;\n",
              "      box-shadow: 0px 1px 3px 1px rgba(0, 0, 0, 0.15);\n",
              "      filter: drop-shadow(0px 1px 2px rgba(0, 0, 0, 0.3));\n",
              "      fill: #FFFFFF;\n",
              "    }\n",
              "  </style>\n",
              "\n",
              "    <script>\n",
              "      const buttonEl =\n",
              "        document.querySelector('#df-b6f66bc1-3c19-422e-90af-393cebc1b140 button.colab-df-convert');\n",
              "      buttonEl.style.display =\n",
              "        google.colab.kernel.accessAllowed ? 'block' : 'none';\n",
              "\n",
              "      async function convertToInteractive(key) {\n",
              "        const element = document.querySelector('#df-b6f66bc1-3c19-422e-90af-393cebc1b140');\n",
              "        const dataTable =\n",
              "          await google.colab.kernel.invokeFunction('convertToInteractive',\n",
              "                                                    [key], {});\n",
              "        if (!dataTable) return;\n",
              "\n",
              "        const docLinkHtml = 'Like what you see? Visit the ' +\n",
              "          '<a target=\"_blank\" href=https://colab.research.google.com/notebooks/data_table.ipynb>data table notebook</a>'\n",
              "          + ' to learn more about interactive tables.';\n",
              "        element.innerHTML = '';\n",
              "        dataTable['output_type'] = 'display_data';\n",
              "        await google.colab.output.renderOutput(dataTable, element);\n",
              "        const docLink = document.createElement('div');\n",
              "        docLink.innerHTML = docLinkHtml;\n",
              "        element.appendChild(docLink);\n",
              "      }\n",
              "    </script>\n",
              "  </div>\n",
              "\n",
              "\n",
              "    <div id=\"df-46c078f5-1cc7-46e7-a4e8-52275da68bfc\">\n",
              "      <button class=\"colab-df-quickchart\" onclick=\"quickchart('df-46c078f5-1cc7-46e7-a4e8-52275da68bfc')\"\n",
              "                title=\"Suggest charts\"\n",
              "                style=\"display:none;\">\n",
              "\n",
              "<svg xmlns=\"http://www.w3.org/2000/svg\" height=\"24px\"viewBox=\"0 0 24 24\"\n",
              "     width=\"24px\">\n",
              "    <g>\n",
              "        <path d=\"M19 3H5c-1.1 0-2 .9-2 2v14c0 1.1.9 2 2 2h14c1.1 0 2-.9 2-2V5c0-1.1-.9-2-2-2zM9 17H7v-7h2v7zm4 0h-2V7h2v10zm4 0h-2v-4h2v4z\"/>\n",
              "    </g>\n",
              "</svg>\n",
              "      </button>\n",
              "\n",
              "<style>\n",
              "  .colab-df-quickchart {\n",
              "      --bg-color: #E8F0FE;\n",
              "      --fill-color: #1967D2;\n",
              "      --hover-bg-color: #E2EBFA;\n",
              "      --hover-fill-color: #174EA6;\n",
              "      --disabled-fill-color: #AAA;\n",
              "      --disabled-bg-color: #DDD;\n",
              "  }\n",
              "\n",
              "  [theme=dark] .colab-df-quickchart {\n",
              "      --bg-color: #3B4455;\n",
              "      --fill-color: #D2E3FC;\n",
              "      --hover-bg-color: #434B5C;\n",
              "      --hover-fill-color: #FFFFFF;\n",
              "      --disabled-bg-color: #3B4455;\n",
              "      --disabled-fill-color: #666;\n",
              "  }\n",
              "\n",
              "  .colab-df-quickchart {\n",
              "    background-color: var(--bg-color);\n",
              "    border: none;\n",
              "    border-radius: 50%;\n",
              "    cursor: pointer;\n",
              "    display: none;\n",
              "    fill: var(--fill-color);\n",
              "    height: 32px;\n",
              "    padding: 0;\n",
              "    width: 32px;\n",
              "  }\n",
              "\n",
              "  .colab-df-quickchart:hover {\n",
              "    background-color: var(--hover-bg-color);\n",
              "    box-shadow: 0 1px 2px rgba(60, 64, 67, 0.3), 0 1px 3px 1px rgba(60, 64, 67, 0.15);\n",
              "    fill: var(--button-hover-fill-color);\n",
              "  }\n",
              "\n",
              "  .colab-df-quickchart-complete:disabled,\n",
              "  .colab-df-quickchart-complete:disabled:hover {\n",
              "    background-color: var(--disabled-bg-color);\n",
              "    fill: var(--disabled-fill-color);\n",
              "    box-shadow: none;\n",
              "  }\n",
              "\n",
              "  .colab-df-spinner {\n",
              "    border: 2px solid var(--fill-color);\n",
              "    border-color: transparent;\n",
              "    border-bottom-color: var(--fill-color);\n",
              "    animation:\n",
              "      spin 1s steps(1) infinite;\n",
              "  }\n",
              "\n",
              "  @keyframes spin {\n",
              "    0% {\n",
              "      border-color: transparent;\n",
              "      border-bottom-color: var(--fill-color);\n",
              "      border-left-color: var(--fill-color);\n",
              "    }\n",
              "    20% {\n",
              "      border-color: transparent;\n",
              "      border-left-color: var(--fill-color);\n",
              "      border-top-color: var(--fill-color);\n",
              "    }\n",
              "    30% {\n",
              "      border-color: transparent;\n",
              "      border-left-color: var(--fill-color);\n",
              "      border-top-color: var(--fill-color);\n",
              "      border-right-color: var(--fill-color);\n",
              "    }\n",
              "    40% {\n",
              "      border-color: transparent;\n",
              "      border-right-color: var(--fill-color);\n",
              "      border-top-color: var(--fill-color);\n",
              "    }\n",
              "    60% {\n",
              "      border-color: transparent;\n",
              "      border-right-color: var(--fill-color);\n",
              "    }\n",
              "    80% {\n",
              "      border-color: transparent;\n",
              "      border-right-color: var(--fill-color);\n",
              "      border-bottom-color: var(--fill-color);\n",
              "    }\n",
              "    90% {\n",
              "      border-color: transparent;\n",
              "      border-bottom-color: var(--fill-color);\n",
              "    }\n",
              "  }\n",
              "</style>\n",
              "\n",
              "      <script>\n",
              "        async function quickchart(key) {\n",
              "          const quickchartButtonEl =\n",
              "            document.querySelector('#' + key + ' button');\n",
              "          quickchartButtonEl.disabled = true;  // To prevent multiple clicks.\n",
              "          quickchartButtonEl.classList.add('colab-df-spinner');\n",
              "          try {\n",
              "            const charts = await google.colab.kernel.invokeFunction(\n",
              "                'suggestCharts', [key], {});\n",
              "          } catch (error) {\n",
              "            console.error('Error during call to suggestCharts:', error);\n",
              "          }\n",
              "          quickchartButtonEl.classList.remove('colab-df-spinner');\n",
              "          quickchartButtonEl.classList.add('colab-df-quickchart-complete');\n",
              "        }\n",
              "        (() => {\n",
              "          let quickchartButtonEl =\n",
              "            document.querySelector('#df-46c078f5-1cc7-46e7-a4e8-52275da68bfc button');\n",
              "          quickchartButtonEl.style.display =\n",
              "            google.colab.kernel.accessAllowed ? 'block' : 'none';\n",
              "        })();\n",
              "      </script>\n",
              "    </div>\n",
              "\n",
              "  <div id=\"id_64babccc-63ad-48b8-8b23-77e762549f5a\">\n",
              "    <style>\n",
              "      .colab-df-generate {\n",
              "        background-color: #E8F0FE;\n",
              "        border: none;\n",
              "        border-radius: 50%;\n",
              "        cursor: pointer;\n",
              "        display: none;\n",
              "        fill: #1967D2;\n",
              "        height: 32px;\n",
              "        padding: 0 0 0 0;\n",
              "        width: 32px;\n",
              "      }\n",
              "\n",
              "      .colab-df-generate:hover {\n",
              "        background-color: #E2EBFA;\n",
              "        box-shadow: 0px 1px 2px rgba(60, 64, 67, 0.3), 0px 1px 3px 1px rgba(60, 64, 67, 0.15);\n",
              "        fill: #174EA6;\n",
              "      }\n",
              "\n",
              "      [theme=dark] .colab-df-generate {\n",
              "        background-color: #3B4455;\n",
              "        fill: #D2E3FC;\n",
              "      }\n",
              "\n",
              "      [theme=dark] .colab-df-generate:hover {\n",
              "        background-color: #434B5C;\n",
              "        box-shadow: 0px 1px 3px 1px rgba(0, 0, 0, 0.15);\n",
              "        filter: drop-shadow(0px 1px 2px rgba(0, 0, 0, 0.3));\n",
              "        fill: #FFFFFF;\n",
              "      }\n",
              "    </style>\n",
              "    <button class=\"colab-df-generate\" onclick=\"generateWithVariable('data')\"\n",
              "            title=\"Generate code using this dataframe.\"\n",
              "            style=\"display:none;\">\n",
              "\n",
              "  <svg xmlns=\"http://www.w3.org/2000/svg\" height=\"24px\"viewBox=\"0 0 24 24\"\n",
              "       width=\"24px\">\n",
              "    <path d=\"M7,19H8.4L18.45,9,17,7.55,7,17.6ZM5,21V16.75L18.45,3.32a2,2,0,0,1,2.83,0l1.4,1.43a1.91,1.91,0,0,1,.58,1.4,1.91,1.91,0,0,1-.58,1.4L9.25,21ZM18.45,9,17,7.55Zm-12,3A5.31,5.31,0,0,0,4.9,8.1,5.31,5.31,0,0,0,1,6.5,5.31,5.31,0,0,0,4.9,4.9,5.31,5.31,0,0,0,6.5,1,5.31,5.31,0,0,0,8.1,4.9,5.31,5.31,0,0,0,12,6.5,5.46,5.46,0,0,0,6.5,12Z\"/>\n",
              "  </svg>\n",
              "    </button>\n",
              "    <script>\n",
              "      (() => {\n",
              "      const buttonEl =\n",
              "        document.querySelector('#id_64babccc-63ad-48b8-8b23-77e762549f5a button.colab-df-generate');\n",
              "      buttonEl.style.display =\n",
              "        google.colab.kernel.accessAllowed ? 'block' : 'none';\n",
              "\n",
              "      buttonEl.onclick = () => {\n",
              "        google.colab.notebook.generateWithVariable('data');\n",
              "      }\n",
              "      })();\n",
              "    </script>\n",
              "  </div>\n",
              "\n",
              "    </div>\n",
              "  </div>\n"
            ],
            "application/vnd.google.colaboratory.intrinsic+json": {
              "type": "dataframe",
              "variable_name": "data",
              "summary": "{\n  \"name\": \"data\",\n  \"rows\": 2,\n  \"fields\": [\n    {\n      \"column\": \"feedback\",\n      \"properties\": {\n        \"dtype\": \"string\",\n        \"num_unique_values\": 2,\n        \"samples\": [\n          \"Hate the new design\",\n          \"Love this!\"\n        ],\n        \"semantic_type\": \"\",\n        \"description\": \"\"\n      }\n    },\n    {\n      \"column\": \"sentiment\",\n      \"properties\": {\n        \"dtype\": \"object\",\n        \"semantic_type\": \"\",\n        \"description\": \"\"\n      }\n    }\n  ]\n}"
            }
          },
          "metadata": {},
          "execution_count": 19
        }
      ],
      "source": [
        "import pandas as pd\n",
        "from transformers import pipeline\n",
        "analyzer = pipeline(\"sentiment-analysis\")\n",
        "# default model is : sshleifer/distilbart-cnn-12-6\n",
        "print(\"\\n\\n#########################################\")\n",
        "print(\"Defaul model :\", analyzer.model.name_or_path)\n",
        "print(\"#########################################\\n\\n\")\n",
        "data = pd.DataFrame({\"feedback\": [\"Love this!\", \"Hate the new design\"]})\n",
        "data['sentiment'] = data['feedback'].apply(analyzer)\n",
        "data"
      ]
    },
    {
      "cell_type": "markdown",
      "source": [
        "## Text Summarizer using HuggingFace Gated Models\n",
        "- current URL https://huggingface.co/models\n",
        "- some models are gated, i.e. they need a special request access to use the models\n",
        "- we are using `Mistral-7B-Instruct-v0.3` for doing summarization of famous story *Kabulliwalah* by *RabindraNath Tagor*\n",
        "- hf-token is needed to use the model the step by step instructions as as given below\n",
        "\n",
        "---\n",
        "\n",
        "### **Create Account / Login**\n",
        "\n",
        "* Go to [https://huggingface.co](https://huggingface.co)\n",
        "* Click **Sign Up** (or **Log In** if you already have an account)\n",
        "* Complete registration or login with GitHub/Google or email/password\n",
        "\n",
        "---\n",
        "\n",
        "### **Get HF Token**\n",
        "\n",
        "* Once logged in, click on your profile icon (top-right corner)\n",
        "* From the dropdown, click **Settings**\n",
        "* In the sidebar, click **Access Tokens**\n",
        "* Click the **New Token** button\n",
        "* Provide a **name** (e.g., `my-token`) and choose a **role** (for most uses, \"Read\" is sufficient)\n",
        "* Click **Generate Token**\n",
        "* Copy the token shown — it will start with `hf_...`\n",
        "\n",
        "---\n",
        "\n",
        "### **Use the Token (e.g., in CLI or Code)**\n",
        "\n",
        "To log in via terminal/CLI:\n",
        "\n",
        "```bash\n",
        "huggingface-cli login\n",
        "```\n",
        "\n",
        "Then paste the token when prompted.\n",
        "\n",
        "To use it in Python:\n",
        "\n",
        "```python\n",
        "from huggingface_hub import login\n",
        "login(\"hf_YourTokenHere\")\n",
        "```\n",
        "\n"
      ],
      "metadata": {
        "id": "q73VCrxvoc3r"
      }
    },
    {
      "cell_type": "code",
      "source": [
        "import requests\n",
        "\n",
        "API_URL = \"https://api-inference.huggingface.co/models/mistralai/Mistral-7B-Instruct-v0.3\"\n",
        "\n",
        "HF_TOKEN =  open(\"/content/hf_token.txt\", \"r\").read()\n",
        "headers = {\n",
        "    \"Authorization\": f\"Bearer {HF_TOKEN}\"\n",
        "}\n",
        "\n",
        "def query(payload):\n",
        "    response = requests.post(API_URL, headers=headers, json=payload)\n",
        "    return response.json()\n",
        "\n",
        "prompt = (\n",
        "    \"### Instruction:\\n\"\n",
        "    \"Summarize the following story in 3-4 sentences.\\n\\n\"\n",
        "    \"### Input:\\n\"\n",
        ")\n",
        "\n",
        "# Read and truncate your input\n",
        "with open(\"/content/radindranath_tagor_cabuliwala.txt\", \"r\", encoding=\"utf-8\") as f:\n",
        "    story_text = f.read()[:1500]\n",
        "\n",
        "full_prompt = prompt + story_text + \"\\n\\n### Response:\\n\"\n",
        "\n",
        "output = query({\n",
        "    \"inputs\": full_prompt,\n",
        "    \"parameters\": {\n",
        "        \"max_new_tokens\": 150,\n",
        "        \"do_sample\": False,\n",
        "        \"return_full_text\": False\n",
        "    }\n",
        "})\n",
        "\n",
        "# Print the response\n",
        "print(\"Summary:\\n\", output[0]['generated_text'])\n"
      ],
      "metadata": {
        "colab": {
          "base_uri": "https://localhost:8080/"
        },
        "id": "4zB2caemohAc",
        "outputId": "a8c7a69e-afdc-4c08-db77-062808a1c4f0"
      },
      "execution_count": 12,
      "outputs": [
        {
          "output_type": "stream",
          "name": "stdout",
          "text": [
            "Summary:\n",
            "  The story is about a father and his five-year-old daughter, Mini, who is chatty and inquisitive. Despite her mother's disapproval, the father encourages her talk. One morning, Mini interrupts the father while he is writing, questioning the pronunciation of a word, the existence of an elephant in the clouds, and her relationship with her mother. The father humorously answers her questions and sends her to play.\n"
          ]
        }
      ]
    },
    {
      "cell_type": "markdown",
      "source": [
        "## Google Gemini API\n",
        "---\n",
        "Typiclally we can use `gemini-2.0-flash` or `gemini-1.5-flash`\n",
        "---\n",
        "\n",
        "### STEP 1: Get a Gemini API Key (Free)\n",
        "\n",
        "* Go to: [https://aistudio.google.com/app/apikey](https://aistudio.google.com/app/apikey)\n",
        "* Sign in with your Google account\n",
        "* Click **“Create API key”**\n",
        "* Copy the key — it will start with `AIza...` or `AIzaSy...`\n",
        "\n",
        "---\n",
        "\n",
        "### STEP 2: Install Required Python Package\n",
        "\n",
        "```bash\n",
        "pip install google-generativeai\n",
        "```\n",
        "\n",
        "---\n",
        "\n",
        "### Free Usage Limits (as of June 2025):\n",
        "\n",
        "| Model            | RPM (Requests/Min) | RPD (Requests/Day) |\n",
        "| ---------------- | ------------------ | ------------------ |\n",
        "| gemini-1.5-flash | 15                 | 1,500              |\n",
        "| gemini-1.5-pro   | 2                  | 50                 |\n",
        "\n",
        "---\n",
        "### Google Gemini AI API documents\n",
        "- [General Documents](https://ai.google.dev/gemini-api/docs)\n",
        "- **[API Rate Limits](https://ai.google.dev/gemini-api/docs/rate-limits)**"
      ],
      "metadata": {
        "id": "tnp8xz_38Qjp"
      }
    },
    {
      "cell_type": "markdown",
      "source": [
        "## Use Google Gemini AI API using gemini2.0"
      ],
      "metadata": {
        "id": "oSQaSm417H-A"
      }
    },
    {
      "cell_type": "code",
      "source": [
        "! pip install google-generativeai"
      ],
      "metadata": {
        "colab": {
          "base_uri": "https://localhost:8080/"
        },
        "id": "S2rzugtY7b6G",
        "outputId": "b5fbb1c7-2a66-4b94-d17b-f530422de208"
      },
      "execution_count": 20,
      "outputs": [
        {
          "output_type": "stream",
          "name": "stdout",
          "text": [
            "\u001b[33mWARNING: Ignoring invalid distribution ~vidia-cudnn-cu12 (/usr/local/lib/python3.11/dist-packages)\u001b[0m\u001b[33m\n",
            "\u001b[0m\u001b[33mWARNING: Ignoring invalid distribution ~vidia-cudnn-cu12 (/usr/local/lib/python3.11/dist-packages)\u001b[0m\u001b[33m\n",
            "\u001b[0mRequirement already satisfied: google-generativeai in /usr/local/lib/python3.11/dist-packages (0.8.5)\n",
            "Requirement already satisfied: google-ai-generativelanguage==0.6.15 in /usr/local/lib/python3.11/dist-packages (from google-generativeai) (0.6.15)\n",
            "Requirement already satisfied: google-api-core in /usr/local/lib/python3.11/dist-packages (from google-generativeai) (2.25.0)\n",
            "Requirement already satisfied: google-api-python-client in /usr/local/lib/python3.11/dist-packages (from google-generativeai) (2.171.0)\n",
            "Requirement already satisfied: google-auth>=2.15.0 in /usr/local/lib/python3.11/dist-packages (from google-generativeai) (2.38.0)\n",
            "Requirement already satisfied: protobuf in /usr/local/lib/python3.11/dist-packages (from google-generativeai) (5.29.5)\n",
            "Requirement already satisfied: pydantic in /usr/local/lib/python3.11/dist-packages (from google-generativeai) (2.11.5)\n",
            "Requirement already satisfied: tqdm in /usr/local/lib/python3.11/dist-packages (from google-generativeai) (4.67.1)\n",
            "Requirement already satisfied: typing-extensions in /usr/local/lib/python3.11/dist-packages (from google-generativeai) (4.14.0)\n",
            "Requirement already satisfied: proto-plus<2.0.0dev,>=1.22.3 in /usr/local/lib/python3.11/dist-packages (from google-ai-generativelanguage==0.6.15->google-generativeai) (1.26.1)\n",
            "Requirement already satisfied: googleapis-common-protos<2.0.0,>=1.56.2 in /usr/local/lib/python3.11/dist-packages (from google-api-core->google-generativeai) (1.70.0)\n",
            "Requirement already satisfied: requests<3.0.0,>=2.18.0 in /usr/local/lib/python3.11/dist-packages (from google-api-core->google-generativeai) (2.32.3)\n",
            "Requirement already satisfied: cachetools<6.0,>=2.0.0 in /usr/local/lib/python3.11/dist-packages (from google-auth>=2.15.0->google-generativeai) (5.5.2)\n",
            "Requirement already satisfied: pyasn1-modules>=0.2.1 in /usr/local/lib/python3.11/dist-packages (from google-auth>=2.15.0->google-generativeai) (0.4.2)\n",
            "Requirement already satisfied: rsa<5,>=3.1.4 in /usr/local/lib/python3.11/dist-packages (from google-auth>=2.15.0->google-generativeai) (4.9.1)\n",
            "Requirement already satisfied: httplib2<1.0.0,>=0.19.0 in /usr/local/lib/python3.11/dist-packages (from google-api-python-client->google-generativeai) (0.22.0)\n",
            "Requirement already satisfied: google-auth-httplib2<1.0.0,>=0.2.0 in /usr/local/lib/python3.11/dist-packages (from google-api-python-client->google-generativeai) (0.2.0)\n",
            "Requirement already satisfied: uritemplate<5,>=3.0.1 in /usr/local/lib/python3.11/dist-packages (from google-api-python-client->google-generativeai) (4.2.0)\n",
            "Requirement already satisfied: annotated-types>=0.6.0 in /usr/local/lib/python3.11/dist-packages (from pydantic->google-generativeai) (0.7.0)\n",
            "Requirement already satisfied: pydantic-core==2.33.2 in /usr/local/lib/python3.11/dist-packages (from pydantic->google-generativeai) (2.33.2)\n",
            "Requirement already satisfied: typing-inspection>=0.4.0 in /usr/local/lib/python3.11/dist-packages (from pydantic->google-generativeai) (0.4.1)\n",
            "Requirement already satisfied: grpcio<2.0.0,>=1.33.2 in /usr/local/lib/python3.11/dist-packages (from google-api-core[grpc]!=2.0.*,!=2.1.*,!=2.10.*,!=2.2.*,!=2.3.*,!=2.4.*,!=2.5.*,!=2.6.*,!=2.7.*,!=2.8.*,!=2.9.*,<3.0.0dev,>=1.34.1->google-ai-generativelanguage==0.6.15->google-generativeai) (1.72.1)\n",
            "Requirement already satisfied: grpcio-status<2.0.0,>=1.33.2 in /usr/local/lib/python3.11/dist-packages (from google-api-core[grpc]!=2.0.*,!=2.1.*,!=2.10.*,!=2.2.*,!=2.3.*,!=2.4.*,!=2.5.*,!=2.6.*,!=2.7.*,!=2.8.*,!=2.9.*,<3.0.0dev,>=1.34.1->google-ai-generativelanguage==0.6.15->google-generativeai) (1.71.0)\n",
            "Requirement already satisfied: pyparsing!=3.0.0,!=3.0.1,!=3.0.2,!=3.0.3,<4,>=2.4.2 in /usr/local/lib/python3.11/dist-packages (from httplib2<1.0.0,>=0.19.0->google-api-python-client->google-generativeai) (3.2.3)\n",
            "Requirement already satisfied: pyasn1<0.7.0,>=0.6.1 in /usr/local/lib/python3.11/dist-packages (from pyasn1-modules>=0.2.1->google-auth>=2.15.0->google-generativeai) (0.6.1)\n",
            "Requirement already satisfied: charset-normalizer<4,>=2 in /usr/local/lib/python3.11/dist-packages (from requests<3.0.0,>=2.18.0->google-api-core->google-generativeai) (3.4.2)\n",
            "Requirement already satisfied: idna<4,>=2.5 in /usr/local/lib/python3.11/dist-packages (from requests<3.0.0,>=2.18.0->google-api-core->google-generativeai) (3.10)\n",
            "Requirement already satisfied: urllib3<3,>=1.21.1 in /usr/local/lib/python3.11/dist-packages (from requests<3.0.0,>=2.18.0->google-api-core->google-generativeai) (2.4.0)\n",
            "Requirement already satisfied: certifi>=2017.4.17 in /usr/local/lib/python3.11/dist-packages (from requests<3.0.0,>=2.18.0->google-api-core->google-generativeai) (2025.4.26)\n",
            "\u001b[33mWARNING: Ignoring invalid distribution ~vidia-cudnn-cu12 (/usr/local/lib/python3.11/dist-packages)\u001b[0m\u001b[33m\n",
            "\u001b[0m"
          ]
        }
      ]
    },
    {
      "cell_type": "code",
      "source": [
        "\n",
        "GOOGLE_API_KEY =  open(\"/content/google_gemini_key.txt\", \"r\").read()\n",
        "\n",
        "import google.generativeai as genai\n",
        "\n",
        "# Set up the API key\n",
        "genai.configure(api_key=GOOGLE_API_KEY)\n",
        "\n",
        "# Load the model (Gemini 1.5 Flash is free and faster)\n",
        "model = genai.GenerativeModel(\"gemini-2.0-flash\")\n",
        "\n",
        "# Send a prompt\n",
        "response = model.generate_content(\"What are the benefits of reinforcement learning?\")\n",
        "\n",
        "print(response.text)\n"
      ],
      "metadata": {
        "colab": {
          "base_uri": "https://localhost:8080/",
          "height": 853
        },
        "id": "divf8iyB2P6O",
        "outputId": "043f1145-1155-49b0-bf96-5be09d93c257"
      },
      "execution_count": 22,
      "outputs": [
        {
          "output_type": "stream",
          "name": "stdout",
          "text": [
            "Reinforcement Learning (RL) offers several compelling benefits, making it a powerful tool for a wide range of applications. Here's a breakdown of the key advantages:\n",
            "\n",
            "**1. Learning Optimal Strategies Automatically:**\n",
            "\n",
            "*   **Autonomous Policy Creation:** RL algorithms learn policies (strategies) to achieve a goal without explicit programming. The agent explores the environment and learns from its interactions, gradually improving its performance. This is particularly useful in complex scenarios where defining optimal rules manually is difficult or impossible.\n",
            "*   **Adaptability to Change:** RL agents can adapt to changes in the environment or task. If the environment shifts or the goal evolves, the agent can continue to learn and optimize its policy, ensuring continued performance.\n",
            "\n",
            "**2. Dealing with Complex and Dynamic Environments:**\n",
            "\n",
            "*   **Handles Uncertainty:** RL is well-suited for environments with uncertainty or stochasticity (randomness). It can learn robust policies that perform well even when the environment is not perfectly predictable.\n",
            "*   **Navigating Complex State Spaces:** RL can handle environments with a large number of states (possible situations). This makes it suitable for problems where the state space is too large for traditional optimization techniques.\n",
            "*   **Temporal Credit Assignment:** RL excels at problems where the consequences of actions are not immediately apparent. It can learn to assign credit (or blame) to actions that contribute to long-term success or failure, even if the immediate reward is delayed.\n",
            "\n",
            "**3. Optimizing for Long-Term Goals:**\n",
            "\n",
            "*   **Maximizing Cumulative Reward:** RL focuses on maximizing the cumulative reward over time, rather than just immediate gratification. This allows the agent to learn policies that are beneficial in the long run, even if they require short-term sacrifices.\n",
            "*   **Strategic Decision-Making:** RL can learn strategic decision-making, where the agent considers the long-term consequences of its actions and plans accordingly.\n",
            "\n",
            "**4. Solving Problems Where Human Expertise is Limited:**\n",
            "\n",
            "*   **Discovering Novel Solutions:** RL can sometimes discover solutions that humans might not have considered. By exploring the environment freely, the agent can uncover innovative strategies and approaches.\n",
            "*   **Automating Complex Tasks:** RL can automate complex tasks that are difficult or time-consuming for humans to perform. This can free up human resources and improve efficiency.\n",
            "\n",
            "**5. Wide Range of Applications:**\n",
            "\n",
            "*   **Robotics:** Control robots for navigation, manipulation, and assembly tasks.\n",
            "*   **Game Playing:** Master complex games like Go, Chess, and Atari games.\n",
            "*   **Resource Management:** Optimize resource allocation in areas like energy, finance, and logistics.\n",
            "*   **Healthcare:** Develop personalized treatment plans and optimize drug dosages.\n",
            "*   **Finance:** Automate trading strategies and manage risk.\n",
            "*   **Recommendation Systems:** Personalize recommendations for users based on their preferences and behavior.\n",
            "*   **Autonomous Vehicles:** Develop autonomous driving systems for cars, drones, and other vehicles.\n",
            "\n",
            "**6. No Need for Labeled Data (in some cases):**\n",
            "\n",
            "*   **Learning from Interaction:** Unlike supervised learning, RL doesn't require labeled data. The agent learns directly from its interactions with the environment, making it suitable for scenarios where labeled data is scarce or expensive to obtain.  Model-free RL is the primary method here.\n",
            "\n",
            "**In summary, Reinforcement Learning provides significant advantages in situations where:**\n",
            "\n",
            "*   An environment is complex and dynamic.\n",
            "*   Explicit programming of optimal strategies is difficult.\n",
            "*   Long-term goals need to be optimized.\n",
            "*   Labeled data is limited or unavailable.\n",
            "*   Adaptive and autonomous behavior is desired.\n",
            "\n",
            "While RL has its limitations (high sample complexity, potential instability, reward function design challenges), its strengths make it a valuable tool for solving a wide range of challenging problems in various fields.\n",
            "\n"
          ]
        }
      ]
    },
    {
      "cell_type": "markdown",
      "source": [
        "## Multiturn Chat Context using Gemini2.0"
      ],
      "metadata": {
        "id": "pw749cUq7uAK"
      }
    },
    {
      "cell_type": "code",
      "source": [
        "chat = model.start_chat(history=[])\n",
        "chat.send_message(\"What's the capital of Germany?\")\n",
        "chat.send_message(\"And its population?\")\n",
        "print(chat.history[-1].parts[0].text)\n"
      ],
      "metadata": {
        "colab": {
          "base_uri": "https://localhost:8080/",
          "height": 52
        },
        "id": "k5BIWerV7xuo",
        "outputId": "3b52b451-fb11-4359-ace3-311fa89609b3"
      },
      "execution_count": 23,
      "outputs": [
        {
          "output_type": "stream",
          "name": "stdout",
          "text": [
            "The population of Berlin is estimated to be around **3.7 million** as of 2023. Keep in mind that population figures are always estimates and can change.\n",
            "\n"
          ]
        }
      ]
    },
    {
      "cell_type": "code",
      "source": [
        "chat.send_message(\"And what are its states?\")\n",
        "print(chat.history[-1].parts[0].text)"
      ],
      "metadata": {
        "colab": {
          "base_uri": "https://localhost:8080/",
          "height": 86
        },
        "id": "U7noP4xC73Mr",
        "outputId": "0e707b11-cc11-4fa5-ff10-0bdf4562b911"
      },
      "execution_count": 24,
      "outputs": [
        {
          "output_type": "stream",
          "name": "stdout",
          "text": [
            "Berlin is a city-state, which means it is both a city and one of the 16 states of Germany. So, in this case, **Berlin *is* the state.**\n",
            "\n",
            "Germany is a federal republic made up of 16 states (Bundesländer). These states have their own constitutions, parliaments, and governments, but are also subject to the federal government.\n",
            "\n"
          ]
        }
      ]
    },
    {
      "cell_type": "markdown",
      "source": [
        "### Automate a Process using LLM (Google Gemini AI API)"
      ],
      "metadata": {
        "id": "294jiVjs84ye"
      }
    },
    {
      "cell_type": "code",
      "source": [
        "! pip install langchain google-generativeai langchain-google-genai beautifulsoup4 requests langchain-community\n",
        "\n"
      ],
      "metadata": {
        "id": "K2hDn8TJ8_kD"
      },
      "execution_count": null,
      "outputs": []
    },
    {
      "cell_type": "code",
      "source": [
        "import requests\n",
        "from bs4 import BeautifulSoup\n",
        "from langchain.document_loaders import WebBaseLoader\n",
        "from langchain_google_genai import ChatGoogleGenerativeAI\n",
        "from langchain.chains import LLMChain\n",
        "from langchain.prompts import ChatPromptTemplate\n",
        "\n",
        "# Your API key explicitly defined here\n",
        "API_KEY =  open(\"/content/google_gemini_key.txt\", \"r\").read()\n",
        "\n",
        "# Scrap the transcripts\n",
        "url = \"https://lexfridman.com/sundar-pichai-transcript#chapter1_introduction\"\n",
        "loader = WebBaseLoader(url)\n",
        "docs = loader.load()\n",
        "\n",
        "\n",
        "transcript_text = \"\\n\".join(doc.page_content for doc in docs)\n",
        "\n",
        "with open(\"sundar_pichai_transcript.txt\", \"w\", encoding=\"utf-8\") as f:\n",
        "    f.write(transcript_text)\n",
        "\n",
        "# Trim transcript text if necessary for token limit\n",
        "transcript_input = transcript_text[:10000]\n",
        "\n",
        "llm = ChatGoogleGenerativeAI(\n",
        "    model=\"gemini-1.5-flash\",\n",
        "    temperature=0.3,\n",
        "    google_api_key=API_KEY\n",
        ")\n",
        "\n",
        "prompt = ChatPromptTemplate.from_template(\"\"\"\n",
        "Summarize the following transcript into exactly 100 words, focusing on Sundar Pichai's key insights, leadership views, and thoughts on technology:\n",
        "\n",
        "Transcript:\n",
        "{transcript}\n",
        "\"\"\")\n",
        "\n",
        "chain = LLMChain(llm=llm, prompt=prompt)\n",
        "summary = chain.invoke({\"transcript\": transcript_input})\n",
        "\n",
        "# Display the summary\n",
        "print(\"Summary (100 words):\\n\")\n",
        "print(\"\\n\".join(summary[\"text\"].split(\".\")))"
      ],
      "metadata": {
        "colab": {
          "base_uri": "https://localhost:8080/"
        },
        "id": "Q-xRQc2wD82z",
        "outputId": "5dee065c-66e0-4d09-8d97-b5a5fa472aa8"
      },
      "execution_count": 37,
      "outputs": [
        {
          "output_type": "stream",
          "name": "stdout",
          "text": [
            "Summary (100 words):\n",
            "\n",
            "Sundar Pichai's journey from a humble upbringing in India, lacking basic amenities, profoundly shaped his perspective on technology's transformative power\n",
            "  He emphasizes the importance of listening to one's heart when choosing a career path, highlighting the ease of success when passion is involved\n",
            "  Pichai expresses optimism about humanity's ability to address the risks associated with advanced AI, believing collective effort can mitigate potential \"doom\" scenarios\n",
            " His leadership philosophy centers on recognizing technology's life-changing impact, a belief rooted in his personal experiences and driving his vision for Google and Alphabet\n",
            "  He views technological progress as exponential and often overlooked, urging appreciation for its advancements\n",
            "\n"
          ]
        }
      ]
    },
    {
      "cell_type": "markdown",
      "source": [],
      "metadata": {
        "id": "lZGLLC8NQ8Wb"
      }
    }
  ]
}